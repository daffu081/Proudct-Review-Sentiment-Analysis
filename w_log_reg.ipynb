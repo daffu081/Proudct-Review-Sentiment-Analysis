{
  "nbformat": 4,
  "nbformat_minor": 0,
  "metadata": {
    "colab": {
      "provenance": [],
      "mount_file_id": "1DdsVKV4qtcMrj0Sul4SmzhE-zI9aGf7O",
      "authorship_tag": "ABX9TyN2sva1vCo5Jd8zr2bGvclF",
      "include_colab_link": true
    },
    "kernelspec": {
      "name": "python3",
      "display_name": "Python 3"
    },
    "language_info": {
      "name": "python"
    }
  },
  "cells": [
    {
      "cell_type": "markdown",
      "metadata": {
        "id": "view-in-github",
        "colab_type": "text"
      },
      "source": [
        "<a href=\"https://colab.research.google.com/github/daffu081/Proudct-Review-Sentiment-Analysis/blob/Word2vec/w_log_reg.ipynb\" target=\"_parent\"><img src=\"https://colab.research.google.com/assets/colab-badge.svg\" alt=\"Open In Colab\"/></a>"
      ]
    },
    {
      "cell_type": "code",
      "source": [
        "from google.colab import drive\n",
        "drive.mount('/content/drive')"
      ],
      "metadata": {
        "id": "FMnBDqG1m8Ta",
        "colab": {
          "base_uri": "https://localhost:8080/"
        },
        "outputId": "81eb30dc-1078-405e-99db-7d135fb0792d"
      },
      "execution_count": null,
      "outputs": [
        {
          "output_type": "stream",
          "name": "stdout",
          "text": [
            "Drive already mounted at /content/drive; to attempt to forcibly remount, call drive.mount(\"/content/drive\", force_remount=True).\n"
          ]
        }
      ]
    },
    {
      "cell_type": "code",
      "execution_count": null,
      "metadata": {
        "id": "1VOnMW322H2-",
        "colab": {
          "base_uri": "https://localhost:8080/",
          "height": 1000
        },
        "outputId": "6feeb3b5-50ef-425d-cf5f-66f08a1b9236"
      },
      "outputs": [
        {
          "output_type": "stream",
          "name": "stdout",
          "text": [
            "                                                Reviews Sentiments\n",
            "0     লটির পো ) ভালোই প্রথম দিনেই বেশ বড় সাইজের একটা...  Negative \n",
            "1     এদের কাছ থেকে প্রডাক্ট নেওয়ার থেকে বাড়া  নিজে ...  Negative \n",
            "2     অডার করছিলাম ৪ বা ৫ তারিখ হতে বাড়া  পারে তার প...  Negative \n",
            "3                     হারামজাদা | বক্স ভিজা ছিল বাড়া  `  Negative \n",
            "4        বোতলের মুখ ভাংগা ছিল পুরাই ফালতু _ হারামজাদা -  Negative \n",
            "...                                                 ...        ...\n",
            "3567  আলহামদুলিল্লাহ = বীজ সঠিক সময়ে হাতে পেয়েছি ভাল...   Positive\n",
            "3568  যা ভেবেছিলাম তারচেয়ে অনেক ভালো ধন্যবাদ  আমার ভ...   Positive\n",
            "3569  ভালোই ছিলো প্যাকেজিং ১০ টা ম্যাস্ক ছিলো সিল দে...   Positive\n",
            "3570                   খুব ভালো মানের মাক্স  অসাধারণ  :   Positive\n",
            "3571    চোখ বন্ধ করে কিনে ফালান অনেক ভালো  খুবই ভালো  +   Positive\n",
            "\n",
            "[3572 rows x 2 columns]\n"
          ]
        },
        {
          "output_type": "stream",
          "name": "stderr",
          "text": [
            "[nltk_data] Downloading package punkt to /root/nltk_data...\n",
            "[nltk_data]   Package punkt is already up-to-date!\n",
            "[nltk_data] Downloading package punkt_tab to /root/nltk_data...\n",
            "[nltk_data]   Package punkt_tab is already up-to-date!\n"
          ]
        },
        {
          "output_type": "stream",
          "name": "stdout",
          "text": [
            "Requirement already satisfied: transformers in /usr/local/lib/python3.11/dist-packages (4.52.4)\n",
            "Requirement already satisfied: filelock in /usr/local/lib/python3.11/dist-packages (from transformers) (3.18.0)\n",
            "Requirement already satisfied: huggingface-hub<1.0,>=0.30.0 in /usr/local/lib/python3.11/dist-packages (from transformers) (0.33.0)\n",
            "Requirement already satisfied: numpy>=1.17 in /usr/local/lib/python3.11/dist-packages (from transformers) (1.26.4)\n",
            "Requirement already satisfied: packaging>=20.0 in /usr/local/lib/python3.11/dist-packages (from transformers) (24.2)\n",
            "Requirement already satisfied: pyyaml>=5.1 in /usr/local/lib/python3.11/dist-packages (from transformers) (6.0.2)\n",
            "Requirement already satisfied: regex!=2019.12.17 in /usr/local/lib/python3.11/dist-packages (from transformers) (2024.11.6)\n",
            "Requirement already satisfied: requests in /usr/local/lib/python3.11/dist-packages (from transformers) (2.32.3)\n",
            "Requirement already satisfied: tokenizers<0.22,>=0.21 in /usr/local/lib/python3.11/dist-packages (from transformers) (0.21.1)\n",
            "Requirement already satisfied: safetensors>=0.4.3 in /usr/local/lib/python3.11/dist-packages (from transformers) (0.5.3)\n",
            "Requirement already satisfied: tqdm>=4.27 in /usr/local/lib/python3.11/dist-packages (from transformers) (4.67.1)\n",
            "Requirement already satisfied: fsspec>=2023.5.0 in /usr/local/lib/python3.11/dist-packages (from huggingface-hub<1.0,>=0.30.0->transformers) (2025.3.2)\n",
            "Requirement already satisfied: typing-extensions>=3.7.4.3 in /usr/local/lib/python3.11/dist-packages (from huggingface-hub<1.0,>=0.30.0->transformers) (4.14.0)\n",
            "Requirement already satisfied: hf-xet<2.0.0,>=1.1.2 in /usr/local/lib/python3.11/dist-packages (from huggingface-hub<1.0,>=0.30.0->transformers) (1.1.3)\n",
            "Requirement already satisfied: charset-normalizer<4,>=2 in /usr/local/lib/python3.11/dist-packages (from requests->transformers) (3.4.2)\n",
            "Requirement already satisfied: idna<4,>=2.5 in /usr/local/lib/python3.11/dist-packages (from requests->transformers) (3.10)\n",
            "Requirement already satisfied: urllib3<3,>=1.21.1 in /usr/local/lib/python3.11/dist-packages (from requests->transformers) (2.4.0)\n",
            "Requirement already satisfied: certifi>=2017.4.17 in /usr/local/lib/python3.11/dist-packages (from requests->transformers) (2025.4.26)\n"
          ]
        },
        {
          "output_type": "stream",
          "name": "stderr",
          "text": [
            "<ipython-input-2-2495031868>:27: FutureWarning: \n",
            "\n",
            "Passing `palette` without assigning `hue` is deprecated and will be removed in v0.14.0. Assign the `x` variable to `hue` and set `legend=False` for the same effect.\n",
            "\n",
            "  sns.countplot(x='Sentiments', data=Data, palette=colors.values())  # Pass values of the colors dictionary\n"
          ]
        },
        {
          "output_type": "display_data",
          "data": {
            "text/plain": [
              "<Figure size 640x480 with 1 Axes>"
            ],
            "image/png": "[encoded data removed]"
          },
          "metadata": {}
        },
        {
          "output_type": "stream",
          "name": "stdout",
          "text": [
            "                                                Reviews Sentiments\n",
            "0     লটির পো ভালোই প্রথম দিনেই বেশ বড় সাইজের একটা ধ...  Negative \n",
            "1     এদের কাছ থেকে প্রডাক্ট নেওয়ার থেকে বাড়া নিজে গ...  Negative \n",
            "2     অডার করছিলাম বা তারিখ হতে বাড়া পারে তার পরে ক্...  Negative \n",
            "3                          হারামজাদা বক্স ভিজা ছিল বাড়া  Negative \n",
            "4            বোতলের মুখ ভাংগা ছিল পুরাই ফালতু হারামজাদা  Negative \n",
            "...                                                 ...        ...\n",
            "3567  আলহামদুলিল্লাহ বীজ সঠিক সময়ে হাতে পেয়েছি ভালোই...   Positive\n",
            "3568  যা ভেবেছিলাম তারচেয়ে অনেক ভালো ধন্যবাদ আমার ভা...   Positive\n",
            "3569  ভালোই ছিলো প্যাকেজিং  টা ম্যাস্ক ছিলো সিল দেয়া...   Positive\n",
            "3570                       খুব ভালো মানের মাক্স অসাধারণ   Positive\n",
            "3571        চোখ বন্ধ করে কিনে ফালান অনেক ভালো খুবই ভালো   Positive\n",
            "\n",
            "[3572 rows x 2 columns]\n"
          ]
        },
        {
          "output_type": "stream",
          "name": "stderr",
          "text": [
            "[nltk_data] Downloading package punkt to /root/nltk_data...\n",
            "[nltk_data]   Package punkt is already up-to-date!\n",
            "[nltk_data] Downloading package stopwords to /root/nltk_data...\n",
            "[nltk_data]   Package stopwords is already up-to-date!\n",
            "[nltk_data] Downloading package punkt_tab to /root/nltk_data...\n",
            "[nltk_data]   Package punkt_tab is already up-to-date!\n"
          ]
        },
        {
          "output_type": "stream",
          "name": "stdout",
          "text": [
            "                                                Reviews  \\\n",
            "0     লটির পো ভালোই প্রথম দিনেই বেশ বড় সাইজের একটা ধ...   \n",
            "1     এদের কাছ থেকে প্রডাক্ট নেওয়ার থেকে বাড়া নিজে গ...   \n",
            "2     অডার করছিলাম বা তারিখ হতে বাড়া পারে তার পরে ক্...   \n",
            "3                          হারামজাদা বক্স ভিজা ছিল বাড়া   \n",
            "4            বোতলের মুখ ভাংগা ছিল পুরাই ফালতু হারামজাদা   \n",
            "...                                                 ...   \n",
            "3567  আলহামদুলিল্লাহ বীজ সঠিক সময়ে হাতে পেয়েছি ভালোই...   \n",
            "3568  যা ভেবেছিলাম তারচেয়ে অনেক ভালো ধন্যবাদ আমার ভা...   \n",
            "3569  ভালোই ছিলো প্যাকেজিং  টা ম্যাস্ক ছিলো সিল দেয়া...   \n",
            "3570                       খুব ভালো মানের মাক্স অসাধারণ   \n",
            "3571        চোখ বন্ধ করে কিনে ফালান অনেক ভালো খুবই ভালো   \n",
            "\n",
            "                                        Cleaned_Reviews  \n",
            "0     লটির পো ভালোই প্রথম দিনেই বেশ বড় সাইজের একটা ধ...  \n",
            "1     এদের কাছ থেকে প্রডাক্ট নেওয়ার থেকে বাড়া নিজে গ...  \n",
            "2     অডার করছিলাম বা তারিখ হতে বাড়া পারে পরে ক্যনছে...  \n",
            "3                          হারামজাদা বক্স ভিজা ছিল বাড়া  \n",
            "4            বোতলের মুখ ভাংগা ছিল পুরাই ফালতু হারামজাদা  \n",
            "...                                                 ...  \n",
            "3567  আলহামদুলিল্লাহ বীজ সঠিক সময়ে হাতে পেয়েছি ভালোই...  \n",
            "3568  যা ভেবেছিলাম তারচেয়ে ভালো ধন্যবাদ আমার ভালো লে...  \n",
            "3569  ভালোই ছিলো প্যাকেজিং টা ম্যাস্ক ছিলো সিল দেয়া ...  \n",
            "3570                       খুব ভালো মানের মাক্স অসাধারণ  \n",
            "3571             চোখ বন্ধ করে কিনে ফালান ভালো খুবই ভালো  \n",
            "\n",
            "[3572 rows x 2 columns]\n",
            "                                                Reviews  \\\n",
            "0     লটির পো ভালোই প্রথম দিনেই বেশ বড় সাইজের একটা ধ...   \n",
            "1     এদের কাছ থেকে প্রডাক্ট নেওয়ার থেকে বাড়া নিজে গ...   \n",
            "2     অডার করছিলাম বা তারিখ হতে বাড়া পারে তার পরে ক্...   \n",
            "3                          হারামজাদা বক্স ভিজা ছিল বাড়া   \n",
            "4            বোতলের মুখ ভাংগা ছিল পুরাই ফালতু হারামজাদা   \n",
            "...                                                 ...   \n",
            "3567  আলহামদুলিল্লাহ বীজ সঠিক সময়ে হাতে পেয়েছি ভালোই...   \n",
            "3568  যা ভেবেছিলাম তারচেয়ে অনেক ভালো ধন্যবাদ আমার ভা...   \n",
            "3569  ভালোই ছিলো প্যাকেজিং  টা ম্যাস্ক ছিলো সিল দেয়া...   \n",
            "3570                       খুব ভালো মানের মাক্স অসাধারণ   \n",
            "3571        চোখ বন্ধ করে কিনে ফালান অনেক ভালো খুবই ভালো   \n",
            "\n",
            "                                      Tokenized_Reviews  \n",
            "0     [লটির, পো, ভালোই, প্রথম, দিনেই, বেশ, বড়, সাইজে...  \n",
            "1     [এদের, কাছ, থেকে, প্রডাক্ট, নেওয়ার, থেকে, বাড়া...  \n",
            "2     [অডার, করছিলাম, বা, তারিখ, হতে, বাড়া, পারে, তা...  \n",
            "3                    [হারামজাদা, বক্স, ভিজা, ছিল, বাড়া]  \n",
            "4     [বোতলের, মুখ, ভাংগা, ছিল, পুরাই, ফালতু, হারামজ...  \n",
            "...                                                 ...  \n",
            "3567  [আলহামদুলিল্লাহ, বীজ, সঠিক, সময়ে, হাতে, পেয়েছি...  \n",
            "3568  [যা, ভেবেছিলাম, তারচেয়ে, অনেক, ভালো, ধন্যবাদ, ...  \n",
            "3569  [ভালোই, ছিলো, প্যাকেজিং, টা, ম্যাস্ক, ছিলো, সি...  \n",
            "3570                 [খুব, ভালো, মানের, মাক্স, অসাধারণ]  \n",
            "3571  [চোখ, বন্ধ, করে, কিনে, ফালান, অনেক, ভালো, খুবই...  \n",
            "\n",
            "[3572 rows x 2 columns]\n"
          ]
        },
        {
          "output_type": "stream",
          "name": "stderr",
          "text": [
            "WARNING:gensim.models.word2vec:Effective 'alpha' higher than previous training cycles\n"
          ]
        },
        {
          "output_type": "stream",
          "name": "stdout",
          "text": [
            "Vector representation of 'হারামজাদা': [-0.38018775  0.01416107 -0.00738236 -0.4747746   0.38501894 -0.55521685\n",
            "  0.25517887  0.49547315 -0.07625447 -0.23067783 -0.06174649 -0.58608073\n",
            " -0.25950667  0.09709468  0.09135947 -0.2381988  -0.00181329 -0.27319613\n",
            "  0.057971   -0.3292475   0.04975541  0.35056955  0.36390266 -0.04693221\n",
            " -0.34442973  0.32139245 -0.11391731 -0.46407506 -0.3818817   0.11788278\n",
            "  0.19986658  0.14915574  0.16062088 -0.14216647 -0.20492277  0.5567837\n",
            " -0.26814002 -0.5865709  -0.37457484 -0.4339992   0.10054885 -0.03925155\n",
            " -0.00260779 -0.08097661  0.3014487  -0.08449476 -0.33248347 -0.02317441\n",
            "  0.2762613  -0.19111685  0.26955074 -0.20556007  0.21625717  0.10622668\n",
            " -0.2659755   0.5176601   0.07444897  0.4405766  -0.2147147   0.08687381\n",
            " -0.05388064  0.16912614 -0.22194774  0.28590196 -0.49247608  0.21680783\n",
            "  0.09838215  0.22029316 -0.24658673  0.48673102 -0.23735681  0.18543257\n",
            "  0.25725266 -0.2632396   0.30758706  0.30723563 -0.18746532  0.0660502\n",
            " -0.5388401   0.28993735 -0.18567626 -0.0558024  -0.16885227  0.51917493\n",
            " -0.19836499  0.25489968 -0.0107783   0.6518458   0.36453614 -0.12409758\n",
            "  0.7205063   0.42548347  0.2412799   0.06099222  0.679736    0.42117527\n",
            "  0.4059156  -0.61686784  0.05589198  0.03300098]\n"
          ]
        }
      ],
      "source": [
        "import pandas as pd\n",
        "import numpy as np\n",
        "import re\n",
        "import nltk\n",
        "from nltk.corpus import stopwords\n",
        "from numpy import array\n",
        "import tensorflow as tf\n",
        "from tensorflow.keras.preprocessing.text import one_hot, Tokenizer\n",
        "from keras.models import Sequential\n",
        "from keras.layers import Flatten, GlobalMaxPooling1D, Embedding, Conv1D, LSTM, Dense\n",
        "from sklearn.model_selection import train_test_split\n",
        "from sklearn.metrics import confusion_matrix, ConfusionMatrixDisplay\n",
        "import matplotlib.pyplot as plt\n",
        "Data = pd.read_excel(\"/content/drive/MyDrive/Thesis/Product Review Sentiment Analysis.xlsx\")\n",
        "print(Data)\n",
        "import nltk\n",
        "nltk.download('punkt')\n",
        "nltk.download('punkt_tab') # Added this line to download the missing resource\n",
        "!pip install transformers\n",
        "import seaborn as sns\n",
        "import matplotlib.pyplot as plt\n",
        "\n",
        "# Define color palette\n",
        "colors = {'negative': 'red', 'positive': 'green'}\n",
        "\n",
        "# Plot the count of sentiments with specified palette\n",
        "sns.countplot(x='Sentiments', data=Data, palette=colors.values())  # Pass values of the colors dictionary\n",
        "\n",
        "# Set labels and title\n",
        "plt.xlabel('Sentiments')\n",
        "plt.ylabel('Count')\n",
        "plt.title('Distribution of Sentiments')\n",
        "\n",
        "# Show the plot\n",
        "plt.show()\n",
        "\n",
        "\n",
        "import string\n",
        "import re\n",
        "# Function to preprocess text\n",
        "def preprocess_text(text):\n",
        "    # Remove HTML tags\n",
        "    text = re.sub('<[^<]+?>', '', text)\n",
        "    # Remove URLs\n",
        "    text = re.sub(r'http\\S+', '', text)\n",
        "    # Remove punctuation\n",
        "    translator = str.maketrans('', '', string.punctuation)\n",
        "    text = text.translate(translator)\n",
        "    # Remove single characters\n",
        "    text = ' '.join([word for word in text.split() if len(word) > 1])\n",
        "    # Remove multiple spaces\n",
        "    text = re.sub(r'\\s+', ' ', text)\n",
        "    # Remove numbers\n",
        "    text = re.sub(r'\\d+', '', text)\n",
        "    # Remove leading and trailing spaces\n",
        "    text = text.strip()\n",
        "    return text\n",
        "\n",
        "# Apply preprocessing to the 'Reviews' column\n",
        "Data['Reviews'] = Data['Reviews'].apply(lambda x: preprocess_text(x) if pd.notnull(x) else x)\n",
        "\n",
        "# Display the updated DataFrame\n",
        "print(Data)\n",
        "import pandas as pd\n",
        "import nltk\n",
        "from nltk.corpus import stopwords\n",
        "from nltk.tokenize import word_tokenize\n",
        "\n",
        "# Download NLTK data (you only need to do this once)\n",
        "nltk.download('punkt')\n",
        "nltk.download('stopwords')\n",
        "nltk.download('punkt_tab') # Added this line to download the missing resource\n",
        "\n",
        "# Provided list of Bangla stopwords\n",
        "bangla_stopwords = [\n",
        "    'এই', 'সে', 'এ', 'তার', 'যে', 'আমাদের', 'তাদের', 'আমরা', 'তোমরা',\n",
        "    'তুমি', 'তারা', 'যার', 'কোন', 'কিছু', 'এক', 'অনেক', 'অধিক', 'সব',\n",
        "    'কত', 'কোথায়'\n",
        "]\n",
        "\n",
        "# Function to remove stopwords from Bangla text\n",
        "def remove_stopwords(text):\n",
        "    # Tokenize the text\n",
        "    words = word_tokenize(text)\n",
        "    # Remove stopwords\n",
        "    filtered_words = [word for word in words if word.lower() not in bangla_stopwords]\n",
        "    # Join the words back into a string\n",
        "    filtered_text = ' '.join(filtered_words)\n",
        "    return filtered_text\n",
        "\n",
        "# Apply stopword removal to the 'Reviews' column\n",
        "Data['Cleaned_Reviews'] = Data['Reviews'].apply(remove_stopwords)\n",
        "\n",
        "# Print the cleaned dataset\n",
        "print(Data[['Reviews', 'Cleaned_Reviews']])\n",
        "import string\n",
        "import pandas as pd\n",
        "from nltk.tokenize import word_tokenize\n",
        "\n",
        "text_column_name = 'Reviews'\n",
        "\n",
        "# Function to tokenize text\n",
        "def tokenize_text(text):\n",
        "    # Remove punctuation\n",
        "    translator = str.maketrans('', '', string.punctuation)\n",
        "    text = text.translate(translator)\n",
        "\n",
        "    # Tokenize the text into individual words\n",
        "    tokens = word_tokenize(text)\n",
        "\n",
        "    return tokens\n",
        "\n",
        "# Apply the tokenize_text function to the desired column\n",
        "Data['Tokenized_Reviews'] = Data['Reviews'].apply(lambda x: tokenize_text(x) if pd.notnull(x) else x)\n",
        "# Display the updated DataFrame with tokenized reviews\n",
        "print(Data[['Reviews', 'Tokenized_Reviews']])\n",
        "\n",
        "from gensim.models import Word2Vec\n",
        "from nltk.tokenize import word_tokenize\n",
        "\n",
        "tokenized_reviews = Data['Tokenized_Reviews'].dropna().tolist()\n",
        "sentences = [text.split() for text in Data['Cleaned_Reviews']]\n",
        "# Set up the Word2Vec model\n",
        "model = Word2Vec(sentences=sentences, vector_size=100, window=5, min_count=1, workers=4)\n",
        "\n",
        "# Train the Word2Vec model\n",
        "model.train(sentences, total_examples=len(tokenized_reviews), epochs=10)\n",
        "\n",
        "# Save the trained Word2Vec model\n",
        "model.save(\"word2vec_model\")\n",
        "\n",
        "# You can later load the model using:\n",
        "# model = Word2Vec.load(\"word2vec_model\")\n",
        "\n",
        "# Accessing the vector representation of a word\n",
        "vector_representation = model.wv['হারামজাদা']\n",
        "print(\"Vector representation of 'হারামজাদা':\", vector_representation)\n",
        "def get_sentence_embedding(sentence, model, vector_size):\n",
        "    vectors = np.zeros((len(sentence), vector_size))\n",
        "    for i, word in enumerate(sentence):\n",
        "        if word in model.wv.key_to_index:\n",
        "            vectors[i] = model.wv[word]\n",
        "    if vectors.shape[0] > 0:\n",
        "        average_embedding = np.mean(vectors, axis=0)\n",
        "    else:\n",
        "        average_embedding = np.zeros(vector_size)\n",
        "    return average_embedding\n",
        "\n",
        "vector_size = 100\n",
        "Data['word2vec_embedding'] = [get_sentence_embedding(sentence, model, vector_size) for sentence in sentences]\n",
        "from sklearn.preprocessing import LabelEncoder\n",
        "\n",
        "y = Data['Sentiments']\n",
        "label_encoder = LabelEncoder()\n",
        "y = label_encoder.fit_transform(y)\n",
        "X = ['word2vec_embedding']"
      ]
    },
    {
      "cell_type": "code",
      "source": [
        "X = np.array(Data['word2vec_embedding'].tolist())\n",
        "from sklearn.model_selection import train_test_split\n",
        "X_train, X_test, y_train, y_test = train_test_split(X, y, test_size=0.2, random_state=42)\n",
        "X_train[0]\n",
        "y_train[0]\n",
        "X_train.shape\n",
        "y_train.shape"
      ],
      "metadata": {
        "id": "akwRw_5Vm5dc",
        "colab": {
          "base_uri": "https://localhost:8080/"
        },
        "outputId": "c25ae76a-95bb-46c2-8ed8-843a2ebcd176"
      },
      "execution_count": null,
      "outputs": [
        {
          "output_type": "execute_result",
          "data": {
            "text/plain": [
              "(2857,)"
            ]
          },
          "metadata": {},
          "execution_count": 3
        }
      ]
    },
    {
      "cell_type": "code",
      "source": [
        "# prompt: logistic regression for this\n",
        "\n",
        "from sklearn.linear_model import LogisticRegression\n",
        "\n",
        "# Instantiate the LogisticRegression model\n",
        "model = LogisticRegression()\n",
        "\n",
        "# Fit the model on the training data\n",
        "model.fit(X_train, y_train)\n",
        "\n",
        "# Predict on the test data\n",
        "predictions = model.predict(X_test)\n",
        "\n",
        "# Evaluate the model performance\n",
        "from sklearn.metrics import accuracy_score\n",
        "accuracy = accuracy_score(y_test, predictions)\n",
        "print(f\"Accuracy: {accuracy:}\")\n",
        "\n",
        "# Create a confusion matrix\n",
        "from sklearn.metrics import confusion_matrix\n",
        "cm = confusion_matrix(y_test, predictions)\n",
        "\n",
        "# Visualize the confusion matrix\n",
        "import seaborn as sns\n",
        "sns.heatmap(cm, annot=True, fmt=\"d\", cmap=\"Blues\")\n",
        "plt.show()\n"
      ],
      "metadata": {
        "colab": {
          "base_uri": "https://localhost:8080/",
          "height": 447
        },
        "id": "kvs2sT9dFMTa",
        "outputId": "2d6ea0bc-c773-401a-f982-dfbf9193233f"
      },
      "execution_count": null,
      "outputs": [
        {
          "output_type": "stream",
          "name": "stdout",
          "text": [
            "Accuracy: 0.9706293706293706\n"
          ]
        },
        {
          "output_type": "display_data",
          "data": {
            "text/plain": [
              "<Figure size 640x480 with 2 Axes>"
            ],
            "image/png": "[encoded data removed]"
          },
          "metadata": {}
        }
      ]
    },
    {
      "cell_type": "code",
      "source": [
        "# prompt: classification report and confusion matrix for this\n",
        "\n",
        "from sklearn.metrics import classification_report, confusion_matrix\n",
        "\n",
        "# Generate classification report\n",
        "classification_report = classification_report(y_test, predictions)\n",
        "print(\"Classification Report:\\n\", classification_report)\n",
        "\n",
        "# Generate confusion matrix\n",
        "confusion_matrix = confusion_matrix(y_test, predictions)\n",
        "print(\"Confusion Matrix:\\n\", confusion_matrix)\n"
      ],
      "metadata": {
        "id": "nU7hp3l8s8cG",
        "colab": {
          "base_uri": "https://localhost:8080/"
        },
        "outputId": "2cc9c380-edb1-4fc0-e165-cae168bc364b"
      },
      "execution_count": null,
      "outputs": [
        {
          "output_type": "stream",
          "name": "stdout",
          "text": [
            "Classification Report:\n",
            "               precision    recall  f1-score   support\n",
            "\n",
            "           0       0.97      0.97      0.97       340\n",
            "           1       0.97      0.97      0.97       375\n",
            "\n",
            "    accuracy                           0.97       715\n",
            "   macro avg       0.97      0.97      0.97       715\n",
            "weighted avg       0.97      0.97      0.97       715\n",
            "\n",
            "Confusion Matrix:\n",
            " [[329  11]\n",
            " [ 10 365]]\n"
          ]
        }
      ]
    },
    {
      "cell_type": "code",
      "source": [
        "# prompt: classification report and confusion matrix for this\n",
        "\n",
        "from sklearn.metrics import classification_report, confusion_matrix\n",
        "\n",
        "# Generate classification report\n",
        "report = classification_report(y_test, predictions)\n",
        "print(f\"Classification Report:\\n{report}\")\n",
        "\n",
        "# Generate confusion matrix\n",
        "cm = confusion_matrix(y_test, predictions)\n",
        "\n",
        "# Visualize confusion matrix\n",
        "sns.heatmap(cm, annot=True, fmt=\"d\", cmap=\"Blues\")\n",
        "plt.show()\n"
      ],
      "metadata": {
        "colab": {
          "base_uri": "https://localhost:8080/",
          "height": 604
        },
        "id": "lFzgwwljFVm-",
        "outputId": "2e12dc6c-8866-424b-98c0-0846f1d11bf5"
      },
      "execution_count": null,
      "outputs": [
        {
          "output_type": "stream",
          "name": "stdout",
          "text": [
            "Classification Report:\n",
            "              precision    recall  f1-score   support\n",
            "\n",
            "           0       0.97      0.97      0.97       340\n",
            "           1       0.97      0.97      0.97       375\n",
            "\n",
            "    accuracy                           0.97       715\n",
            "   macro avg       0.97      0.97      0.97       715\n",
            "weighted avg       0.97      0.97      0.97       715\n",
            "\n"
          ]
        },
        {
          "output_type": "display_data",
          "data": {
            "text/plain": [
              "<Figure size 640x480 with 2 Axes>"
            ],
            "image/png": "[encoded data removed]"
          },
          "metadata": {}
        }
      ]
    },
    {
      "cell_type": "code",
      "source": [
        "# prompt: roc curve for this\n",
        "\n",
        "from sklearn.metrics import roc_curve, auc\n",
        "import matplotlib.pyplot as plt\n",
        "\n",
        "# Get predicted probabilities for the test set\n",
        "y_pred_prob = model.predict_proba(X_test)[:, 1]\n",
        "\n",
        "# Calculate ROC curve and AUC\n",
        "fpr, tpr, thresholds = roc_curve(y_test, y_pred_prob)\n",
        "roc_auc = auc(fpr, tpr)\n",
        "\n",
        "# Plot ROC curve\n",
        "plt.figure()\n",
        "lw = 2\n",
        "plt.plot(fpr, tpr, color='darkorange',\n",
        "         lw=lw, label='ROC curve (area = %0.2f)' % roc_auc)\n",
        "plt.plot([0, 1], [0, 1], color='navy', lw=lw, linestyle='--')\n",
        "plt.xlim([0.0, 1.0])\n",
        "plt.ylim([0.0, 1.05])\n",
        "plt.xlabel('False Positive Rate')\n",
        "plt.ylabel('True Positive Rate')\n",
        "plt.title('Receiver operating characteristic for LR')\n",
        "plt.legend(loc=\"lower right\")\n",
        "plt.show()\n"
      ],
      "metadata": {
        "colab": {
          "base_uri": "https://localhost:8080/",
          "height": 472
        },
        "id": "-lxYW7Flpny4",
        "outputId": "82c10ef5-f077-4fe1-8317-2c08182129cc"
      },
      "execution_count": null,
      "outputs": [
        {
          "output_type": "display_data",
          "data": {
            "text/plain": [
              "<Figure size 640x480 with 1 Axes>"
            ],
            "image/png": "[encoded data removed]"
          },
          "metadata": {}
        }
      ]
    },
    {
      "cell_type": "code",
      "source": [
        "# prompt: generate svm for this\n",
        "\n",
        "from sklearn.svm import SVC\n",
        "\n",
        "# Instantiate the SVM model\n",
        "svm_model = SVC(kernel='linear', C=1.0)\n",
        "\n",
        "# Fit the model on the training data\n",
        "svm_model.fit(X_train, y_train)\n",
        "\n",
        "# Predict on the test data\n",
        "svm_predictions = svm_model.predict(X_test)\n",
        "\n",
        "# Evaluate the model performance\n",
        "svm_accuracy = accuracy_score(y_test, svm_predictions)\n",
        "print(f\"SVM Accuracy: {svm_accuracy:}\")\n",
        "\n",
        "# Create a confusion matrix\n",
        "svm_cm = confusion_matrix(y_test, svm_predictions)\n",
        "\n",
        "# Visualize the confusion matrix\n",
        "sns.heatmap(svm_cm, annot=True, fmt=\"d\", cmap=\"Blues\")\n",
        "plt.show()\n",
        "\n",
        "# Generate classification report\n",
        "svm_report = classification_report(y_test, svm_predictions)\n",
        "print(f\"SVM Classification Report:\\n{svm_report}\")\n",
        "\n",
        "# Generate confusion matrix\n",
        "svm_cm = confusion_matrix(y_test, svm_predictions)\n",
        "\n",
        "# Visualize confusion matrix\n",
        "sns.heatmap(svm_cm, annot=True, fmt=\"d\", cmap=\"Blues\")\n",
        "plt.show()\n"
      ],
      "metadata": {
        "colab": {
          "base_uri": "https://localhost:8080/",
          "height": 1000
        },
        "id": "7we-9U5ZFsaV",
        "outputId": "7e349bdd-6161-4e4f-d117-9666511cc03b"
      },
      "execution_count": null,
      "outputs": [
        {
          "output_type": "stream",
          "name": "stdout",
          "text": [
            "SVM Accuracy: 0.9734265734265735\n"
          ]
        },
        {
          "output_type": "display_data",
          "data": {
            "text/plain": [
              "<Figure size 640x480 with 2 Axes>"
            ],
            "image/png": "[encoded data removed]"
          },
          "metadata": {}
        },
        {
          "output_type": "stream",
          "name": "stdout",
          "text": [
            "SVM Classification Report:\n",
            "              precision    recall  f1-score   support\n",
            "\n",
            "           0       0.97      0.97      0.97       340\n",
            "           1       0.97      0.98      0.97       375\n",
            "\n",
            "    accuracy                           0.97       715\n",
            "   macro avg       0.97      0.97      0.97       715\n",
            "weighted avg       0.97      0.97      0.97       715\n",
            "\n"
          ]
        },
        {
          "output_type": "display_data",
          "data": {
            "text/plain": [
              "<Figure size 640x480 with 2 Axes>"
            ],
            "image/png": "[encoded data removed]"
          },
          "metadata": {}
        }
      ]
    },
    {
      "cell_type": "code",
      "metadata": {
        "id": "798fe34c"
      },
      "source": [
        "!pip install gensim"
      ],
      "execution_count": null,
      "outputs": []
    },
    {
      "cell_type": "code",
      "metadata": {
        "id": "5ae0c57a"
      },
      "source": [
        "!pip install gensim"
      ],
      "execution_count": null,
      "outputs": []
    },
    {
      "cell_type": "code",
      "source": [
        "# prompt: Measure Inference Time\n",
        "\n",
        "import time\n",
        "\n",
        "# Start time measurement\n",
        "start_time = time.time()\n",
        "\n",
        "# Make predictions (using the already trained Logistic Regression model)\n",
        "predictions = model.predict(X_test)\n",
        "\n",
        "# End time measurement\n",
        "end_time = time.time()\n",
        "\n",
        "# Calculate inference time\n",
        "inference_time = end_time - start_time\n",
        "\n",
        "print(f\"Inference Time: {inference_time:.4f} seconds\")"
      ],
      "metadata": {
        "colab": {
          "base_uri": "https://localhost:8080/"
        },
        "id": "kYRNRAL_nACf",
        "outputId": "a5f64a2f-b4cb-407d-e3b5-d32d97162e0c"
      },
      "execution_count": null,
      "outputs": [
        {
          "output_type": "stream",
          "name": "stdout",
          "text": [
            "Inference Time: 0.0027 seconds\n"
          ]
        }
      ]
    },
    {
      "cell_type": "code",
      "source": [
        "# prompt: model size\n",
        "\n",
        "# Function to calculate model size (in bytes)\n",
        "def get_model_size(model):\n",
        "    import sys\n",
        "    return sys.getsizeof(model)\n",
        "\n",
        "# Get the size of the Logistic Regression model\n",
        "lr_model_size = get_model_size(model)\n",
        "print(f\"Logistic Regression model size: {lr_model_size} bytes\")\n",
        "\n",
        "# Get the size of the SVM model\n",
        "svm_model_size = get_model_size(svm_model)\n",
        "print(f\"SVM model size: {svm_model_size} bytes\")\n",
        "\n",
        "# Get the size of the Word2Vec model\n",
        "word2vec_model_size = get_model_size(model) # Assuming 'model' refers to the Word2Vec model here\n",
        "print(f\"Word2Vec model size: {word2vec_model_size} bytes\")\n",
        "\n",
        "# Note: The exact size of the model can vary slightly due to internal\n",
        "# Python object overheads. This gives a reasonable estimate.\n"
      ],
      "metadata": {
        "colab": {
          "base_uri": "https://localhost:8080/"
        },
        "id": "spXHY7PTo2Ia",
        "outputId": "221f910e-abc1-45b2-8faa-b764180f71bd"
      },
      "execution_count": null,
      "outputs": [
        {
          "output_type": "stream",
          "name": "stdout",
          "text": [
            "Logistic Regression model size: 56 bytes\n",
            "SVM model size: 56 bytes\n",
            "Word2Vec model size: 56 bytes\n"
          ]
        }
      ]
    }
  ]
}