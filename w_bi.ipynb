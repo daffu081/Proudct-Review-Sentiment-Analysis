{
  "cells": [
    {
      "cell_type": "code",
      "execution_count": null,
      "metadata": {
        "colab": {
          "base_uri": "https://localhost:8080/"
        },
        "id": "mtWJ2VEKkS2N",
        "outputId": "e2dceb35-510a-4e57-cc21-b13fad8283a6"
      },
      "outputs": [
        {
          "name": "stdout",
          "output_type": "stream",
          "text": [
            "Drive already mounted at /content/drive; to attempt to forcibly remount, call drive.mount(\"/content/drive\", force_remount=True).\n"
          ]
        }
      ],
      "source": [
        "from google.colab import drive\n",
        "drive.mount('/content/drive')"
      ]
    },
    {
      "cell_type": "code",
      "execution_count": null,
      "metadata": {
        "id": "CVQx_-l7lQi4"
      },
      "outputs": [],
      "source": [
        "import pandas as pd\n",
        "import re\n",
        "import string\n",
        "from nltk.tokenize import word_tokenize\n",
        "from sklearn.model_selection import train_test_split\n",
        "from sklearn.preprocessing import LabelEncoder\n",
        "from keras.preprocessing.text import Tokenizer\n",
        "from keras.preprocessing.sequence import pad_sequences\n",
        "from gensim.models import Word2Vec\n",
        "from keras.models import Sequential\n",
        "from keras.layers import Embedding, Bidirectional, LSTM, Dense\n",
        "import numpy as np"
      ]
    },
    {
      "cell_type": "code",
      "execution_count": null,
      "metadata": {
        "colab": {
          "base_uri": "https://localhost:8080/"
        },
        "id": "0H7HcNVgmaxt",
        "outputId": "52cecefc-2e33-40f9-943f-14916f0e62af"
      },
      "outputs": [
        {
          "name": "stdout",
          "output_type": "stream",
          "text": [
            "Requirement already satisfied: nltk in /usr/local/lib/python3.10/dist-packages (3.8.1)\n",
            "Requirement already satisfied: click in /usr/local/lib/python3.10/dist-packages (from nltk) (8.1.7)\n",
            "Requirement already satisfied: joblib in /usr/local/lib/python3.10/dist-packages (from nltk) (1.3.2)\n",
            "Requirement already satisfied: regex>=2021.8.3 in /usr/local/lib/python3.10/dist-packages (from nltk) (2023.12.25)\n",
            "Requirement already satisfied: tqdm in /usr/local/lib/python3.10/dist-packages (from nltk) (4.66.2)\n"
          ]
        }
      ],
      "source": [
        "!pip install nltk"
      ]
    },
    {
      "cell_type": "code",
      "execution_count": null,
      "metadata": {
        "colab": {
          "base_uri": "https://localhost:8080/"
        },
        "id": "XcZuh_KUmbuj",
        "outputId": "fb9379fa-d321-4ad4-a71b-6647c8f2f827"
      },
      "outputs": [
        {
          "name": "stderr",
          "output_type": "stream",
          "text": [
            "[nltk_data] Downloading package punkt to /root/nltk_data...\n",
            "[nltk_data]   Unzipping tokenizers/punkt.zip.\n"
          ]
        },
        {
          "data": {
            "text/plain": [
              "True"
            ]
          },
          "execution_count": 4,
          "metadata": {},
          "output_type": "execute_result"
        }
      ],
      "source": [
        "import nltk\n",
        "nltk.download('punkt')"
      ]
    },
    {
      "cell_type": "code",
      "execution_count": null,
      "metadata": {
        "id": "LHxaX9r6lYKC"
      },
      "outputs": [],
      "source": [
        "# Load the data\n",
        "Data = pd.read_excel(\"/content/drive/MyDrive/Thesis/Product Review Sentiment Analysis.xlsx\")"
      ]
    },
    {
      "cell_type": "code",
      "execution_count": null,
      "metadata": {
        "colab": {
          "base_uri": "https://localhost:8080/"
        },
        "id": "rQ5zjP9Elx1t",
        "outputId": "4c6a98ee-c977-4b39-e4c2-d1f6cc62aae6"
      },
      "outputs": [
        {
          "name": "stdout",
          "output_type": "stream",
          "text": [
            "                                                Reviews Sentiments\n",
            "0     লটির পো ) ভালোই প্রথম দিনেই বেশ বড় সাইজের একটা...  Negative \n",
            "1     এদের কাছ থেকে প্রডাক্ট নেওয়ার থেকে বাড়া  নিজে ...  Negative \n",
            "2     অডার করছিলাম ৪ বা ৫ তারিখ হতে বাড়া  পারে তার প...  Negative \n",
            "3                     হারামজাদা | বক্স ভিজা ছিল বাড়া  `  Negative \n",
            "4        বোতলের মুখ ভাংগা ছিল পুরাই ফালতু _ হারামজাদা -  Negative \n",
            "...                                                 ...        ...\n",
            "3567  আলহামদুলিল্লাহ = বীজ সঠিক সময়ে হাতে পেয়েছি ভাল...   Positive\n",
            "3568  যা ভেবেছিলাম তারচেয়ে অনেক ভালো ধন্যবাদ  আমার ভ...   Positive\n",
            "3569  ভালোই ছিলো প্যাকেজিং ১০ টা ম্যাস্ক ছিলো সিল দে...   Positive\n",
            "3570                   খুব ভালো মানের মাক্স  অসাধারণ  :   Positive\n",
            "3571    চোখ বন্ধ করে কিনে ফালান অনেক ভালো  খুবই ভালো  +   Positive\n",
            "\n",
            "[3572 rows x 2 columns]\n"
          ]
        }
      ],
      "source": [
        "print(Data)"
      ]
    },
    {
      "cell_type": "code",
      "execution_count": null,
      "metadata": {
        "colab": {
          "base_uri": "https://localhost:8080/",
          "height": 579
        },
        "id": "-S9rq1NFKjvx",
        "outputId": "cb26aaa6-6363-4690-8a74-011f00b4008d"
      },
      "outputs": [
        {
          "name": "stderr",
          "output_type": "stream",
          "text": [
            "<ipython-input-7-79b6d9e1af22>:8: FutureWarning: \n",
            "\n",
            "Passing `palette` without assigning `hue` is deprecated and will be removed in v0.14.0. Assign the `x` variable to `hue` and set `legend=False` for the same effect.\n",
            "\n",
            "  sns.countplot(x='Sentiments', data=Data, palette=colors.values())  # Pass values of the colors dictionary\n"
          ]
        },
        {
          "data": {
            "image/png": "[encoded data removed]",
            "text/plain": [
              "<Figure size 640x480 with 1 Axes>"
            ]
          },
          "metadata": {},
          "output_type": "display_data"
        }
      ],
      "source": [
        "import seaborn as sns\n",
        "import matplotlib.pyplot as plt\n",
        "\n",
        "# Define color palette\n",
        "colors = {'negative': 'red', 'positive': 'green'}\n",
        "\n",
        "# Plot the count of sentiments with specified palette\n",
        "sns.countplot(x='Sentiments', data=Data, palette=colors.values())  # Pass values of the colors dictionary\n",
        "\n",
        "# Set labels and title\n",
        "plt.xlabel('Sentiments')\n",
        "plt.ylabel('Count')\n",
        "plt.title('Distribution of Sentiments')\n",
        "\n",
        "# Show the plot\n",
        "plt.show()"
      ]
    },
    {
      "cell_type": "code",
      "execution_count": null,
      "metadata": {
        "id": "Rygd7NJ5Kk47"
      },
      "outputs": [],
      "source": []
    },
    {
      "cell_type": "code",
      "execution_count": null,
      "metadata": {
        "colab": {
          "base_uri": "https://localhost:8080/"
        },
        "id": "67E7mF_olzls",
        "outputId": "78302105-31ac-423a-87aa-ae22d2a9c4ed"
      },
      "outputs": [
        {
          "name": "stdout",
          "output_type": "stream",
          "text": [
            "                                                Reviews Sentiments\n",
            "0     লটির পো ভালোই প্রথম দিনেই বেশ বড় সাইজের একটা ধ...  negative \n",
            "1     এদের কাছ থেকে প্রডাক্ট নেওয়ার থেকে বাড়া নিজে গ...  negative \n",
            "2     অডার করছিলাম বা তারিখ হতে বাড়া পারে তার পরে ক্...  negative \n",
            "3                          হারামজাদা বক্স ভিজা ছিল বাড়া  negative \n",
            "4            বোতলের মুখ ভাংগা ছিল পুরাই ফালতু হারামজাদা  negative \n",
            "...                                                 ...        ...\n",
            "3567  আলহামদুলিল্লাহ বীজ সঠিক সময়ে হাতে পেয়েছি ভালোই...   positive\n",
            "3568  যা ভেবেছিলাম তারচেয়ে অনেক ভালো ধন্যবাদ আমার ভা...   positive\n",
            "3569  ভালোই ছিলো প্যাকেজিং  টা ম্যাস্ক ছিলো সিল দেয়া...   positive\n",
            "3570                       খুব ভালো মানের মাক্স অসাধারণ   positive\n",
            "3571        চোখ বন্ধ করে কিনে ফালান অনেক ভালো খুবই ভালো   positive\n",
            "\n",
            "[3572 rows x 2 columns]\n"
          ]
        }
      ],
      "source": [
        "# Preprocessing Text\n",
        "def preprocess_text(text):\n",
        "    # Remove HTML tags\n",
        "    text = re.sub('<[^<]+?>', '', text)\n",
        "    # Remove URLs\n",
        "    text = re.sub(r'http\\S+', '', text)\n",
        "    # Remove punctuation\n",
        "    translator = str.maketrans('', '', string.punctuation)\n",
        "    text = text.translate(translator)\n",
        "    # Remove single characters\n",
        "    text = ' '.join([word for word in text.split() if len(word) > 1])\n",
        "    # Remove multiple spaces\n",
        "    text = re.sub(r'\\s+', ' ', text)\n",
        "    # Remove numbers\n",
        "    text = re.sub(r'\\d+', '', text)\n",
        "    # Remove leading and trailing spaces\n",
        "    text = text.strip()\n",
        "    return text\n",
        "\n",
        "Data['Reviews'] = Data['Reviews'].apply(lambda x: preprocess_text(x) if pd.notnull(x) else x)\n",
        "\n",
        "Data['Sentiments'] = Data['Sentiments'].str.lower()\n",
        "print(Data)"
      ]
    },
    {
      "cell_type": "code",
      "execution_count": null,
      "metadata": {
        "colab": {
          "base_uri": "https://localhost:8080/"
        },
        "id": "JD8Rtx_pKnEE",
        "outputId": "48ca4276-5686-46ed-a25d-6725539ead1b"
      },
      "outputs": [
        {
          "name": "stdout",
          "output_type": "stream",
          "text": [
            "                                                Reviews Sentiments  \\\n",
            "0     লটির পো ভালোই প্রথম দিনেই বেশ বড় সাইজের একটা ধ...  negative    \n",
            "1     এদের কাছ থেকে প্রডাক্ট নেওয়ার থেকে বাড়া নিজে গ...  negative    \n",
            "2     অডার করছিলাম বা তারিখ হতে বাড়া পারে তার পরে ক্...  negative    \n",
            "3                          হারামজাদা বক্স ভিজা ছিল বাড়া  negative    \n",
            "4            বোতলের মুখ ভাংগা ছিল পুরাই ফালতু হারামজাদা  negative    \n",
            "...                                                 ...        ...   \n",
            "3567  আলহামদুলিল্লাহ বীজ সঠিক সময়ে হাতে পেয়েছি ভালোই...   positive   \n",
            "3568  যা ভেবেছিলাম তারচেয়ে অনেক ভালো ধন্যবাদ আমার ভা...   positive   \n",
            "3569  ভালোই ছিলো প্যাকেজিং  টা ম্যাস্ক ছিলো সিল দেয়া...   positive   \n",
            "3570                       খুব ভালো মানের মাক্স অসাধারণ   positive   \n",
            "3571        চোখ বন্ধ করে কিনে ফালান অনেক ভালো খুবই ভালো   positive   \n",
            "\n",
            "                                        Cleaned_Reviews  \n",
            "0     লটির পো ভালোই প্রথম দিনেই বেশ বড় সাইজের একটা ধ...  \n",
            "1     এদের কাছ থেকে প্রডাক্ট নেওয়ার থেকে বাড়া নিজে গ...  \n",
            "2     অডার করছিলাম বা তারিখ হতে বাড়া পারে পরে ক্যনছে...  \n",
            "3                          হারামজাদা বক্স ভিজা ছিল বাড়া  \n",
            "4            বোতলের মুখ ভাংগা ছিল পুরাই ফালতু হারামজাদা  \n",
            "...                                                 ...  \n",
            "3567  আলহামদুলিল্লাহ বীজ সঠিক সময়ে হাতে পেয়েছি ভালোই...  \n",
            "3568  যা ভেবেছিলাম তারচেয়ে ভালো ধন্যবাদ আমার ভালো লে...  \n",
            "3569  ভালোই ছিলো প্যাকেজিং টা ম্যাস্ক ছিলো সিল দেয়া ...  \n",
            "3570                       খুব ভালো মানের মাক্স অসাধারণ  \n",
            "3571             চোখ বন্ধ করে কিনে ফালান ভালো খুবই ভালো  \n",
            "\n",
            "[3572 rows x 3 columns]\n"
          ]
        }
      ],
      "source": [
        "# Remove Bangla stopwords\n",
        "bangla_stopwords = [\n",
        "    'এই', 'সে', 'এ', 'তার', 'যে', 'আমাদের', 'তাদের', 'আমরা', 'তোমরা',\n",
        "    'তুমি', 'তারা', 'যার', 'কোন', 'কিছু', 'এক', 'অনেক', 'অধিক', 'সব',\n",
        "    'কত', 'কোথায়']\n",
        "def remove_stopwords(text):\n",
        "    words = word_tokenize(text)\n",
        "    filtered_words = [word for word in words if word.lower() not in bangla_stopwords]\n",
        "    filtered_text = ' '.join(filtered_words)\n",
        "    return filtered_text\n",
        "\n",
        "Data['Cleaned_Reviews'] = Data['Reviews'].apply(remove_stopwords)\n",
        "from gensim.models import Word2Vec\n",
        "\n",
        "print(Data)\n"
      ]
    },
    {
      "cell_type": "code",
      "execution_count": null,
      "metadata": {
        "colab": {
          "base_uri": "https://localhost:8080/"
        },
        "id": "PYxyvLL2l419",
        "outputId": "25ab738c-86dd-47fd-cf26-bcc9f9d7a94e"
      },
      "outputs": [
        {
          "name": "stdout",
          "output_type": "stream",
          "text": [
            "                                                Reviews Sentiments  \\\n",
            "0     লটির পো ভালোই প্রথম দিনেই বেশ বড় সাইজের একটা ধ...  negative    \n",
            "1     এদের কাছ থেকে প্রডাক্ট নেওয়ার থেকে বাড়া নিজে গ...  negative    \n",
            "2     অডার করছিলাম বা তারিখ হতে বাড়া পারে তার পরে ক্...  negative    \n",
            "3                          হারামজাদা বক্স ভিজা ছিল বাড়া  negative    \n",
            "4            বোতলের মুখ ভাংগা ছিল পুরাই ফালতু হারামজাদা  negative    \n",
            "...                                                 ...        ...   \n",
            "3567  আলহামদুলিল্লাহ বীজ সঠিক সময়ে হাতে পেয়েছি ভালোই...   positive   \n",
            "3568  যা ভেবেছিলাম তারচেয়ে অনেক ভালো ধন্যবাদ আমার ভা...   positive   \n",
            "3569  ভালোই ছিলো প্যাকেজিং  টা ম্যাস্ক ছিলো সিল দেয়া...   positive   \n",
            "3570                       খুব ভালো মানের মাক্স অসাধারণ   positive   \n",
            "3571        চোখ বন্ধ করে কিনে ফালান অনেক ভালো খুবই ভালো   positive   \n",
            "\n",
            "                                        Cleaned_Reviews  \\\n",
            "0     লটির পো ভালোই প্রথম দিনেই বেশ বড় সাইজের একটা ধ...   \n",
            "1     এদের কাছ থেকে প্রডাক্ট নেওয়ার থেকে বাড়া নিজে গ...   \n",
            "2     অডার করছিলাম বা তারিখ হতে বাড়া পারে পরে ক্যনছে...   \n",
            "3                          হারামজাদা বক্স ভিজা ছিল বাড়া   \n",
            "4            বোতলের মুখ ভাংগা ছিল পুরাই ফালতু হারামজাদা   \n",
            "...                                                 ...   \n",
            "3567  আলহামদুলিল্লাহ বীজ সঠিক সময়ে হাতে পেয়েছি ভালোই...   \n",
            "3568  যা ভেবেছিলাম তারচেয়ে ভালো ধন্যবাদ আমার ভালো লে...   \n",
            "3569  ভালোই ছিলো প্যাকেজিং টা ম্যাস্ক ছিলো সিল দেয়া ...   \n",
            "3570                       খুব ভালো মানের মাক্স অসাধারণ   \n",
            "3571             চোখ বন্ধ করে কিনে ফালান ভালো খুবই ভালো   \n",
            "\n",
            "                                      Tokenized_Reviews  \n",
            "0     [লটির, পো, ভালোই, প্রথম, দিনেই, বেশ, বড়, সাইজে...  \n",
            "1     [এদের, কাছ, থেকে, প্রডাক্ট, নেওয়ার, থেকে, বাড়া...  \n",
            "2     [অডার, করছিলাম, বা, তারিখ, হতে, বাড়া, পারে, তা...  \n",
            "3                    [হারামজাদা, বক্স, ভিজা, ছিল, বাড়া]  \n",
            "4     [বোতলের, মুখ, ভাংগা, ছিল, পুরাই, ফালতু, হারামজ...  \n",
            "...                                                 ...  \n",
            "3567  [আলহামদুলিল্লাহ, বীজ, সঠিক, সময়ে, হাতে, পেয়েছি...  \n",
            "3568  [যা, ভেবেছিলাম, তারচেয়ে, অনেক, ভালো, ধন্যবাদ, ...  \n",
            "3569  [ভালোই, ছিলো, প্যাকেজিং, টা, ম্যাস্ক, ছিলো, সি...  \n",
            "3570                 [খুব, ভালো, মানের, মাক্স, অসাধারণ]  \n",
            "3571  [চোখ, বন্ধ, করে, কিনে, ফালান, অনেক, ভালো, খুবই...  \n",
            "\n",
            "[3572 rows x 4 columns]\n"
          ]
        }
      ],
      "source": [
        "# Tokenization\n",
        "def tokenize_text(text):\n",
        "    translator = str.maketrans('', '', string.punctuation)\n",
        "    text = text.translate(translator)\n",
        "    tokens = word_tokenize(text)\n",
        "    return tokens\n",
        "\n",
        "Data['Tokenized_Reviews'] = Data['Reviews'].apply(lambda x: tokenize_text(x) if pd.notnull(x) else x)\n",
        "\n",
        "# Remove null values\n",
        "Data = Data.dropna(subset=['Tokenized_Reviews'])\n",
        "print(Data)"
      ]
    },
    {
      "cell_type": "code",
      "execution_count": null,
      "metadata": {
        "colab": {
          "base_uri": "https://localhost:8080/"
        },
        "id": "EZpJo9AJmHs_",
        "outputId": "65bd423a-0fd3-467e-c175-026296241f6c"
      },
      "outputs": [
        {
          "name": "stderr",
          "output_type": "stream",
          "text": [
            "WARNING:gensim.models.word2vec:Effective 'alpha' higher than previous training cycles\n"
          ]
        }
      ],
      "source": [
        "# Remove null values\n",
        "Data = Data.dropna(subset=['Tokenized_Reviews'])\n",
        "\n",
        "# Prepare data for Word2Vec\n",
        "tokenized_text = Data['Tokenized_Reviews'].tolist()\n",
        "\n",
        "# Train Word2Vec model\n",
        "model = Word2Vec(sentences=tokenized_text, vector_size=100, window=5, min_count=1, workers=4)\n",
        "model.train(tokenized_text, total_examples=len(tokenized_text), epochs=10)\n",
        "\n",
        "# Save the trained Word2Vec model\n",
        "model.save(\"word2vec_model\")"
      ]
    },
    {
      "cell_type": "code",
      "execution_count": null,
      "metadata": {
        "id": "_5QS76qsmnca"
      },
      "outputs": [],
      "source": [
        "# Label Encoding for Sentiments\n",
        "y = Data['Sentiments']\n",
        "label_encoder = LabelEncoder()\n",
        "y = label_encoder.fit_transform(y)"
      ]
    },
    {
      "cell_type": "code",
      "execution_count": null,
      "metadata": {
        "id": "CbeRQMsnmqUH"
      },
      "outputs": [],
      "source": [
        "# Split data into train and test sets\n",
        "X = Data['Reviews']\n",
        "X_train, X_test, y_train, y_test = train_test_split(X, y, test_size=0.2, random_state=42)\n"
      ]
    },
    {
      "cell_type": "code",
      "execution_count": null,
      "metadata": {
        "id": "jbJSJXCjmtHy"
      },
      "outputs": [],
      "source": [
        "# Tokenize text\n",
        "from tensorflow.keras.preprocessing.text import Tokenizer\n",
        "tokenizer = Tokenizer()\n",
        "tokenizer.fit_on_texts(X_train)"
      ]
    },
    {
      "cell_type": "code",
      "execution_count": null,
      "metadata": {
        "id": "vhj6RnHumwQV"
      },
      "outputs": [],
      "source": [
        "# Convert text to sequences and pad them\n",
        "X_train_sequences = tokenizer.texts_to_sequences(X_train)\n",
        "X_test_sequences = tokenizer.texts_to_sequences(X_test)\n"
      ]
    },
    {
      "cell_type": "code",
      "execution_count": null,
      "metadata": {
        "id": "PoF4BF10mylU"
      },
      "outputs": [],
      "source": [
        "max_sequence_length = max([len(seq) for seq in X_train_sequences])\n",
        "X_train_padded = pad_sequences(X_train_sequences, maxlen=max_sequence_length, padding='post')\n",
        "X_test_padded = pad_sequences(X_test_sequences, maxlen=max_sequence_length, padding='post')\n"
      ]
    },
    {
      "cell_type": "code",
      "execution_count": null,
      "metadata": {
        "id": "_s6Zx5svm2cm"
      },
      "outputs": [],
      "source": [
        "# Build the BiLSTM model\n",
        "embedding_dim = 200  # Should match the vector size in Word2Vec model\n",
        "\n",
        "model = Sequential()\n",
        "model.add(Embedding(input_dim=len(tokenizer.word_index)+1, output_dim=embedding_dim, input_length=max_sequence_length))\n",
        "model.add(Bidirectional(LSTM(128, dropout=0.5, recurrent_dropout=0.2)))\n",
        "model.add(Dense(1, activation='sigmoid'))\n",
        "model.compile(optimizer='adamax', loss='binary_crossentropy', metrics=['accuracy'])\n"
      ]
    },
    {
      "cell_type": "code",
      "execution_count": null,
      "metadata": {
        "colab": {
          "background_save": true,
          "base_uri": "https://localhost:8080/"
        },
        "id": "D2UXF8tEm4_s",
        "outputId": "dd7b47ca-73eb-447a-dddf-2c601ca650e8"
      },
      "outputs": [
        {
          "name": "stdout",
          "output_type": "stream",
          "text": [
            "Epoch 1/20\n",
            "81/81 [==============================] - 82s 1s/step - loss: 0.0027 - accuracy: 0.9996 - val_loss: 0.0082 - val_accuracy: 0.9965\n",
            "Epoch 2/20\n",
            "81/81 [==============================] - 51s 636ms/step - loss: 0.0021 - accuracy: 1.0000 - val_loss: 0.0091 - val_accuracy: 0.9965\n",
            "Epoch 3/20\n",
            "81/81 [==============================] - 53s 650ms/step - loss: 0.0018 - accuracy: 1.0000 - val_loss: 0.0073 - val_accuracy: 0.9965\n",
            "Epoch 4/20\n",
            "81/81 [==============================] - 56s 697ms/step - loss: 0.0017 - accuracy: 1.0000 - val_loss: 0.0069 - val_accuracy: 0.9965\n",
            "Epoch 5/20\n",
            "81/81 [==============================] - 54s 666ms/step - loss: 0.0015 - accuracy: 1.0000 - val_loss: 0.0065 - val_accuracy: 0.9965\n",
            "Epoch 6/20\n",
            "81/81 [==============================] - 53s 655ms/step - loss: 0.0013 - accuracy: 1.0000 - val_loss: 0.0059 - val_accuracy: 0.9965\n",
            "Epoch 7/20\n",
            "81/81 [==============================] - 52s 639ms/step - loss: 0.0011 - accuracy: 1.0000 - val_loss: 0.0056 - val_accuracy: 0.9965\n",
            "Epoch 8/20\n",
            "81/81 [==============================] - 50s 618ms/step - loss: 0.0010 - accuracy: 1.0000 - val_loss: 0.0060 - val_accuracy: 0.9965\n",
            "Epoch 9/20\n",
            "81/81 [==============================] - 52s 639ms/step - loss: 9.2103e-04 - accuracy: 1.0000 - val_loss: 0.0055 - val_accuracy: 0.9965\n",
            "Epoch 10/20\n",
            "81/81 [==============================] - 52s 647ms/step - loss: 8.8058e-04 - accuracy: 1.0000 - val_loss: 0.0051 - val_accuracy: 0.9965\n",
            "Epoch 11/20\n",
            "81/81 [==============================] - 51s 635ms/step - loss: 8.6969e-04 - accuracy: 1.0000 - val_loss: 0.0041 - val_accuracy: 0.9965\n",
            "Epoch 12/20\n",
            "81/81 [==============================] - 50s 618ms/step - loss: 6.6489e-04 - accuracy: 1.0000 - val_loss: 0.0050 - val_accuracy: 0.9965\n",
            "Epoch 13/20\n",
            "81/81 [==============================] - 52s 639ms/step - loss: 5.4853e-04 - accuracy: 1.0000 - val_loss: 0.0050 - val_accuracy: 0.9965\n",
            "Epoch 14/20\n",
            "81/81 [==============================] - 52s 644ms/step - loss: 5.4460e-04 - accuracy: 1.0000 - val_loss: 0.0041 - val_accuracy: 0.9965\n",
            "Epoch 15/20\n",
            "81/81 [==============================] - 52s 637ms/step - loss: 7.9829e-04 - accuracy: 1.0000 - val_loss: 0.0031 - val_accuracy: 1.0000\n",
            "Epoch 16/20\n",
            "81/81 [==============================] - 50s 617ms/step - loss: 4.6983e-04 - accuracy: 1.0000 - val_loss: 0.0036 - val_accuracy: 0.9965\n",
            "Epoch 17/20\n",
            "81/81 [==============================] - 52s 645ms/step - loss: 4.0940e-04 - accuracy: 1.0000 - val_loss: 0.0037 - val_accuracy: 0.9965\n",
            "Epoch 18/20\n",
            "81/81 [==============================] - 52s 642ms/step - loss: 3.2895e-04 - accuracy: 1.0000 - val_loss: 0.0043 - val_accuracy: 0.9965\n",
            "Epoch 19/20\n",
            "81/81 [==============================] - 50s 623ms/step - loss: 3.4642e-04 - accuracy: 1.0000 - val_loss: 0.0039 - val_accuracy: 0.9965\n",
            "Epoch 20/20\n",
            "81/81 [==============================] - 50s 610ms/step - loss: 3.4949e-04 - accuracy: 1.0000 - val_loss: 0.0028 - val_accuracy: 1.0000\n"
          ]
        }
      ],
      "source": [
        "# Change the dtype of X_train_padded to float64\n",
        "X_train_padded = X_train_padded.astype(np.float64)\n",
        "\n",
        "# Train the model\n",
        "history = model.fit(X_train_padded, y_train, epochs=20, batch_size=32, validation_split=0.1)\n"
      ]
    },
    {
      "cell_type": "code",
      "execution_count": null,
      "metadata": {
        "colab": {
          "base_uri": "https://localhost:8080/"
        },
        "id": "9npMn8R5m9en",
        "outputId": "3668a6ff-4fa1-4503-b3a4-befece91a0d8"
      },
      "outputs": [
        {
          "name": "stdout",
          "output_type": "stream",
          "text": [
            "23/23 [==============================] - 2s 76ms/step - loss: 0.0247 - accuracy: 0.9958\n",
            "Test Accuracy: 0.9958041906356812\n"
          ]
        }
      ],
      "source": [
        "# Evaluate the model\n",
        "X_test_padded = X_test_padded.astype(np.float64)  # Change dtype to float64\n",
        "loss, accuracy = model.evaluate(X_test_padded, y_test)\n",
        "print(\"Test Accuracy:\", accuracy)"
      ]
    },
    {
      "cell_type": "code",
      "execution_count": null,
      "metadata": {
        "colab": {
          "base_uri": "https://localhost:8080/",
          "height": 489
        },
        "id": "3RPBJnVenBx8",
        "outputId": "23c6d277-9f01-4445-f944-da4a122144ff"
      },
      "outputs": [
        {
          "name": "stdout",
          "output_type": "stream",
          "text": [
            "34/34 [==============================] - 5s 125ms/step\n"
          ]
        },
        {
          "data": {
            "image/png": "[encoded data removed]",
            "text/plain": [
              "<Figure size 640x480 with 1 Axes>"
            ]
          },
          "metadata": {},
          "output_type": "display_data"
        }
      ],
      "source": [
        "import matplotlib.pyplot as plt\n",
        "from sklearn.metrics import roc_curve, auc\n",
        "\n",
        "# Get predicted probabilities for the test set\n",
        "y_pred_prob = model.predict(X_test_padded)\n",
        "\n",
        "# Compute ROC curve and ROC area for each class\n",
        "fpr, tpr, _ = roc_curve(y_test, y_pred_prob)\n",
        "roc_auc = auc(fpr, tpr)\n",
        "\n",
        "# Plot ROC curve\n",
        "plt.figure()\n",
        "lw = 2\n",
        "plt.plot(fpr, tpr, color='darkorange', lw=lw, label='ROC curve (area = %0.2f)' % roc_auc)\n",
        "plt.plot([0, 1], [0, 1], color='navy', lw=lw, linestyle='--')\n",
        "plt.xlim([0.0, 1.0])\n",
        "plt.ylim([0.0, 1.05])\n",
        "plt.xlabel('False Positive Rate')\n",
        "plt.ylabel('True Positive Rate')\n",
        "plt.title('Receiver Operating Characteristic')\n",
        "plt.legend(loc=\"lower right\")\n",
        "plt.show()\n"
      ]
    },
    {
      "cell_type": "code",
      "execution_count": null,
      "metadata": {
        "colab": {
          "base_uri": "https://localhost:8080/"
        },
        "id": "y2_5Bb52nEKu",
        "outputId": "5a37330b-c470-4c1f-9ac7-0af059311491"
      },
      "outputs": [
        {
          "name": "stdout",
          "output_type": "stream",
          "text": [
            "34/34 [==============================] - 4s 125ms/step\n",
            "Accuracy: 0.9944029850746269\n",
            "Precision: 0.9946996466431095\n",
            "Recall: 0.9946996466431095\n",
            "F1-score: 0.9946996466431095\n",
            "Confusion Matrix:\n",
            "[[503   3]\n",
            " [  3 563]]\n"
          ]
        }
      ],
      "source": [
        "from sklearn.metrics import accuracy_score, precision_score, recall_score, f1_score, confusion_matrix\n",
        "\n",
        "# Get predicted probabilities for the test set\n",
        "y_pred_prob = model.predict(X_test_padded)\n",
        "\n",
        "# Convert probabilities to binary classes\n",
        "y_pred_binary = (y_pred_prob > 0.5).astype(int)\n",
        "\n",
        "# Flatten binary predictions if needed\n",
        "y_pred_binary = y_pred_binary.flatten()\n",
        "\n",
        "# Compute performance measures\n",
        "accuracy = accuracy_score(y_test, y_pred_binary)\n",
        "precision = precision_score(y_test, y_pred_binary)\n",
        "recall = recall_score(y_test, y_pred_binary)\n",
        "f1 = f1_score(y_test, y_pred_binary)\n",
        "conf_matrix = confusion_matrix(y_test, y_pred_binary)\n",
        "\n",
        "print(\"Accuracy:\", accuracy)\n",
        "print(\"Precision:\", precision)\n",
        "print(\"Recall:\", recall)\n",
        "print(\"F1-score:\", f1)\n",
        "print(\"Confusion Matrix:\")\n",
        "print(conf_matrix)\n",
        "\n"
      ]
    },
    {
      "cell_type": "code",
      "execution_count": null,
      "metadata": {
        "colab": {
          "base_uri": "https://localhost:8080/",
          "height": 927
        },
        "id": "TksshDs4nG1I",
        "outputId": "ff8f13c4-8af3-4bf1-a64e-5eae9dbc5e49"
      },
      "outputs": [
        {
          "data": {
            "image/png": "[encoded data removed]",
            "text/plain": [
              "<Figure size 640x480 with 1 Axes>"
            ]
          },
          "metadata": {},
          "output_type": "display_data"
        },
        {
          "data": {
            "image/png": "[encoded data removed]",
            "text/plain": [
              "<Figure size 640x480 with 1 Axes>"
            ]
          },
          "metadata": {},
          "output_type": "display_data"
        }
      ],
      "source": [
        "import matplotlib.pyplot as plt\n",
        "\n",
        "# Plot training & validation accuracy values\n",
        "plt.plot(history.history['accuracy'])\n",
        "plt.plot(history.history['val_accuracy'])\n",
        "plt.title('Model accuracy')\n",
        "plt.xlabel('Epoch')\n",
        "plt.ylabel('Accuracy')\n",
        "plt.legend(['Train', 'Validation'], loc='upper left')\n",
        "plt.show()\n",
        "\n",
        "# Plot training & validation loss values\n",
        "plt.plot(history.history['loss'])\n",
        "plt.plot(history.history['val_loss'])\n",
        "plt.title('Model loss')\n",
        "plt.xlabel('Epoch')\n",
        "plt.ylabel('Loss')\n",
        "plt.legend(['Train', 'Validation'], loc='upper left')\n",
        "plt.show()"
      ]
    },
    {
      "cell_type": "code",
      "execution_count": null,
      "metadata": {
        "id": "RfpiZM7JRp2b"
      },
      "outputs": [],
      "source": []
    }
  ],
  "metadata": {
    "colab": {
      "provenance": []
    },
    "kernelspec": {
      "display_name": "Python 3",
      "name": "python3"
    },
    "language_info": {
      "name": "python"
    }
  },
  "nbformat": 4,
  "nbformat_minor": 0
}